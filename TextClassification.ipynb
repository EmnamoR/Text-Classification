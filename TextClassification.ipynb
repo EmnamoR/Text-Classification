{
 "cells": [
  {
   "cell_type": "code",
   "execution_count": 1,
   "metadata": {
    "collapsed": true
   },
   "outputs": [],
   "source": [
    "import pandas as pd\n",
    "import chardet\n",
    "with open('test.csv', 'rb') as f:\n",
    "    # we will see the encoding of the file here\n",
    "    #(the same for both test and train so i used test because it s smaller)\n",
    "    result = chardet.detect(f.read()) \n",
    "df_test=pd.read_csv('test.csv',  names=[\"category\",\"title\",\"text\"], na_values=\" NaN\",encoding=result['encoding'])\n",
    "df_train=pd.read_csv('train.csv',  names=[\"category\",\"title\",\"text\"], na_values=\" NaN\",encoding=result['encoding'])"
   ]
  },
  {
   "cell_type": "code",
   "execution_count": 2,
   "metadata": {},
   "outputs": [
    {
     "data": {
      "text/html": [
       "<div>\n",
       "<style>\n",
       "    .dataframe thead tr:only-child th {\n",
       "        text-align: right;\n",
       "    }\n",
       "\n",
       "    .dataframe thead th {\n",
       "        text-align: left;\n",
       "    }\n",
       "\n",
       "    .dataframe tbody tr th {\n",
       "        vertical-align: top;\n",
       "    }\n",
       "</style>\n",
       "<table border=\"1\" class=\"dataframe\">\n",
       "  <thead>\n",
       "    <tr style=\"text-align: right;\">\n",
       "      <th></th>\n",
       "      <th>category</th>\n",
       "      <th>title</th>\n",
       "      <th>text</th>\n",
       "    </tr>\n",
       "  </thead>\n",
       "  <tbody>\n",
       "    <tr>\n",
       "      <th>0</th>\n",
       "      <td>3</td>\n",
       "      <td>Fears for T N pension after talks</td>\n",
       "      <td>Unions representing workers at Turner   Newall...</td>\n",
       "    </tr>\n",
       "    <tr>\n",
       "      <th>1</th>\n",
       "      <td>4</td>\n",
       "      <td>The Race is On: Second Private Team Sets Launc...</td>\n",
       "      <td>SPACE.com - TORONTO, Canada -- A second\\team o...</td>\n",
       "    </tr>\n",
       "    <tr>\n",
       "      <th>2</th>\n",
       "      <td>4</td>\n",
       "      <td>Ky. Company Wins Grant to Study Peptides (AP)</td>\n",
       "      <td>AP - A company founded by a chemistry research...</td>\n",
       "    </tr>\n",
       "    <tr>\n",
       "      <th>3</th>\n",
       "      <td>4</td>\n",
       "      <td>Prediction Unit Helps Forecast Wildfires (AP)</td>\n",
       "      <td>AP - It's barely dawn when Mike Fitzpatrick st...</td>\n",
       "    </tr>\n",
       "    <tr>\n",
       "      <th>4</th>\n",
       "      <td>4</td>\n",
       "      <td>Calif. Aims to Limit Farm-Related Smog (AP)</td>\n",
       "      <td>AP - Southern California's smog-fighting agenc...</td>\n",
       "    </tr>\n",
       "    <tr>\n",
       "      <th>5</th>\n",
       "      <td>4</td>\n",
       "      <td>Open Letter Against British Copyright Indoctri...</td>\n",
       "      <td>The British Department for Education and Skill...</td>\n",
       "    </tr>\n",
       "    <tr>\n",
       "      <th>6</th>\n",
       "      <td>4</td>\n",
       "      <td>Loosing the War on Terrorism</td>\n",
       "      <td>\\\\\"Sven Jaschan, self-confessed author of the ...</td>\n",
       "    </tr>\n",
       "    <tr>\n",
       "      <th>7</th>\n",
       "      <td>4</td>\n",
       "      <td>FOAFKey: FOAF, PGP, Key Distribution, and Bloo...</td>\n",
       "      <td>\\\\FOAF/LOAF  and bloom filters have a lot of i...</td>\n",
       "    </tr>\n",
       "    <tr>\n",
       "      <th>8</th>\n",
       "      <td>4</td>\n",
       "      <td>E-mail scam targets police chief</td>\n",
       "      <td>Wiltshire Police warns about \"phishing\" after ...</td>\n",
       "    </tr>\n",
       "    <tr>\n",
       "      <th>9</th>\n",
       "      <td>4</td>\n",
       "      <td>Card fraud unit nets 36,000 cards</td>\n",
       "      <td>In its first two years, the UK's dedicated car...</td>\n",
       "    </tr>\n",
       "    <tr>\n",
       "      <th>10</th>\n",
       "      <td>4</td>\n",
       "      <td>Group to Propose New High-Speed Wireless Format</td>\n",
       "      <td>LOS ANGELES (Reuters) - A group of technology...</td>\n",
       "    </tr>\n",
       "    <tr>\n",
       "      <th>11</th>\n",
       "      <td>4</td>\n",
       "      <td>Apple Launches Graphics Software, Video Bundle</td>\n",
       "      <td>LOS ANGELES (Reuters) - Apple Computer Inc.&amp;l...</td>\n",
       "    </tr>\n",
       "    <tr>\n",
       "      <th>12</th>\n",
       "      <td>4</td>\n",
       "      <td>Dutch Retailer Beats Apple to Local Download M...</td>\n",
       "      <td>AMSTERDAM (Reuters) - Free Record Shop, a Dut...</td>\n",
       "    </tr>\n",
       "    <tr>\n",
       "      <th>13</th>\n",
       "      <td>4</td>\n",
       "      <td>Super ant colony hits Australia</td>\n",
       "      <td>A giant 100km colony of ants  which has been d...</td>\n",
       "    </tr>\n",
       "    <tr>\n",
       "      <th>14</th>\n",
       "      <td>4</td>\n",
       "      <td>Socialites unite dolphin groups</td>\n",
       "      <td>Dolphin groups, or \"pods\", rely on socialites ...</td>\n",
       "    </tr>\n",
       "    <tr>\n",
       "      <th>15</th>\n",
       "      <td>4</td>\n",
       "      <td>Teenage T. rex's monster growth</td>\n",
       "      <td>Tyrannosaurus rex achieved its massive size du...</td>\n",
       "    </tr>\n",
       "    <tr>\n",
       "      <th>16</th>\n",
       "      <td>4</td>\n",
       "      <td>Scientists Discover Ganymede has a Lumpy Interior</td>\n",
       "      <td>Jet Propulsion Lab -- Scientists have discover...</td>\n",
       "    </tr>\n",
       "    <tr>\n",
       "      <th>17</th>\n",
       "      <td>4</td>\n",
       "      <td>Mars Rovers Relay Images Through Mars Express</td>\n",
       "      <td>European Space Agency -- ESAs Mars Express has...</td>\n",
       "    </tr>\n",
       "    <tr>\n",
       "      <th>18</th>\n",
       "      <td>4</td>\n",
       "      <td>Rocking the Cradle of Life</td>\n",
       "      <td>When did life begin? One evidential clue stems...</td>\n",
       "    </tr>\n",
       "    <tr>\n",
       "      <th>19</th>\n",
       "      <td>4</td>\n",
       "      <td>Storage, servers bruise HP earnings</td>\n",
       "      <td>update Earnings per share rise compared with a...</td>\n",
       "    </tr>\n",
       "    <tr>\n",
       "      <th>20</th>\n",
       "      <td>4</td>\n",
       "      <td>IBM to hire even more new workers</td>\n",
       "      <td>By the end of the year, the computing giant pl...</td>\n",
       "    </tr>\n",
       "    <tr>\n",
       "      <th>21</th>\n",
       "      <td>4</td>\n",
       "      <td>Sun's Looking Glass Provides 3D View</td>\n",
       "      <td>Developers get early code for new operating sy...</td>\n",
       "    </tr>\n",
       "    <tr>\n",
       "      <th>22</th>\n",
       "      <td>4</td>\n",
       "      <td>IBM Chips May Someday Heal Themselves</td>\n",
       "      <td>New technology applies electrical fuses to hel...</td>\n",
       "    </tr>\n",
       "    <tr>\n",
       "      <th>23</th>\n",
       "      <td>4</td>\n",
       "      <td>Some People Not Eligible to Get in on Google IPO</td>\n",
       "      <td>Google has billed its IPO as a way for everyda...</td>\n",
       "    </tr>\n",
       "    <tr>\n",
       "      <th>24</th>\n",
       "      <td>4</td>\n",
       "      <td>Rivals Try to Turn Tables on Charles Schwab</td>\n",
       "      <td>By MICHAEL LIEDTKE     SAN FRANCISCO (AP) -- W...</td>\n",
       "    </tr>\n",
       "    <tr>\n",
       "      <th>25</th>\n",
       "      <td>4</td>\n",
       "      <td>News: Sluggish movement on power grid cyber se...</td>\n",
       "      <td>Industry cyber security standards fail to reac...</td>\n",
       "    </tr>\n",
       "    <tr>\n",
       "      <th>26</th>\n",
       "      <td>2</td>\n",
       "      <td>Giddy Phelps Touches Gold for First Time</td>\n",
       "      <td>Michael Phelps won the gold medal in the 400 i...</td>\n",
       "    </tr>\n",
       "    <tr>\n",
       "      <th>27</th>\n",
       "      <td>2</td>\n",
       "      <td>Tougher rules won't soften Law's game</td>\n",
       "      <td>FOXBOROUGH -- Looking at his ridiculously deve...</td>\n",
       "    </tr>\n",
       "    <tr>\n",
       "      <th>28</th>\n",
       "      <td>2</td>\n",
       "      <td>Shoppach doesn't appear ready to hit the next ...</td>\n",
       "      <td>With the weeks dwindling until Jason Varitek e...</td>\n",
       "    </tr>\n",
       "    <tr>\n",
       "      <th>29</th>\n",
       "      <td>2</td>\n",
       "      <td>Mighty Ortiz makes sure Sox can rest easy</td>\n",
       "      <td>Just imagine what David Ortiz could do on a go...</td>\n",
       "    </tr>\n",
       "    <tr>\n",
       "      <th>...</th>\n",
       "      <td>...</td>\n",
       "      <td>...</td>\n",
       "      <td>...</td>\n",
       "    </tr>\n",
       "    <tr>\n",
       "      <th>7570</th>\n",
       "      <td>1</td>\n",
       "      <td>AU Issues Deadline to Khartoum and Darfur Rebels</td>\n",
       "      <td>ABUJA (Reuters) - The African Union issued a ...</td>\n",
       "    </tr>\n",
       "    <tr>\n",
       "      <th>7571</th>\n",
       "      <td>2</td>\n",
       "      <td>Skier Tests Positive</td>\n",
       "      <td>Olympic silver medalist Hans Knauss tests posi...</td>\n",
       "    </tr>\n",
       "    <tr>\n",
       "      <th>7572</th>\n",
       "      <td>2</td>\n",
       "      <td>Wenger vows no repeat of frailties against Bayern</td>\n",
       "      <td>ARSNE WENGER was raised in Alsace, near the Ge...</td>\n",
       "    </tr>\n",
       "    <tr>\n",
       "      <th>7573</th>\n",
       "      <td>4</td>\n",
       "      <td>Microsoft buy comes with strings attached</td>\n",
       "      <td>A software company that Microsoft acquired thi...</td>\n",
       "    </tr>\n",
       "    <tr>\n",
       "      <th>7574</th>\n",
       "      <td>4</td>\n",
       "      <td>U.S. Army aims to halt paperwork with IBM system</td>\n",
       "      <td>The U.S. Army has struck a deal with IBM and o...</td>\n",
       "    </tr>\n",
       "    <tr>\n",
       "      <th>7575</th>\n",
       "      <td>2</td>\n",
       "      <td>Barcelona return for Mourinho</td>\n",
       "      <td>Jose Mourinho, the Chelsea manager, last night...</td>\n",
       "    </tr>\n",
       "    <tr>\n",
       "      <th>7576</th>\n",
       "      <td>2</td>\n",
       "      <td>2005 American Bowl teams announced</td>\n",
       "      <td>New York, NY (Sports Network) - Indianapolis w...</td>\n",
       "    </tr>\n",
       "    <tr>\n",
       "      <th>7577</th>\n",
       "      <td>2</td>\n",
       "      <td>Carter could prove real plus for Nets</td>\n",
       "      <td>The Nets reported deal for Vince Carter very m...</td>\n",
       "    </tr>\n",
       "    <tr>\n",
       "      <th>7578</th>\n",
       "      <td>1</td>\n",
       "      <td>Sudan govt unleashes offensive in South Darfur...</td>\n",
       "      <td>CAIRO, Dec 17 (AFP) -- One of the two main reb...</td>\n",
       "    </tr>\n",
       "    <tr>\n",
       "      <th>7579</th>\n",
       "      <td>3</td>\n",
       "      <td>Airbus chief wins fight to take controls at Eads</td>\n",
       "      <td>The head of plane maker Airbus yesterday won a...</td>\n",
       "    </tr>\n",
       "    <tr>\n",
       "      <th>7580</th>\n",
       "      <td>2</td>\n",
       "      <td>England labour but find their second wind</td>\n",
       "      <td>This was not an easy day on which to play cric...</td>\n",
       "    </tr>\n",
       "    <tr>\n",
       "      <th>7581</th>\n",
       "      <td>3</td>\n",
       "      <td>EBay #39;s Buy Of Rent.com May Lack Strategic ...</td>\n",
       "      <td>Standard  amp; Poor #39;s Equity Research said...</td>\n",
       "    </tr>\n",
       "    <tr>\n",
       "      <th>7582</th>\n",
       "      <td>4</td>\n",
       "      <td>Analysis: PeopleSoft users speak out about Ora...</td>\n",
       "      <td>InfoWorld - The great debate over the impact o...</td>\n",
       "    </tr>\n",
       "    <tr>\n",
       "      <th>7583</th>\n",
       "      <td>2</td>\n",
       "      <td>Right-hander must pass physical</td>\n",
       "      <td>Right-hander Matt Clement and the Boston Red S...</td>\n",
       "    </tr>\n",
       "    <tr>\n",
       "      <th>7584</th>\n",
       "      <td>2</td>\n",
       "      <td>Pacers 89, Raptors 86</td>\n",
       "      <td>Jamaal Tinsley scored 17 of his 22 points in t...</td>\n",
       "    </tr>\n",
       "    <tr>\n",
       "      <th>7585</th>\n",
       "      <td>1</td>\n",
       "      <td>Pricey Drug Trials Turn Up Few New Blockbusters</td>\n",
       "      <td>The \\$500 billion drug industry is stumbling b...</td>\n",
       "    </tr>\n",
       "    <tr>\n",
       "      <th>7586</th>\n",
       "      <td>2</td>\n",
       "      <td>NBA Game Summary - Denver at Miami</td>\n",
       "      <td>Miami, FL (Sports Network) - Shaquille O #39;N...</td>\n",
       "    </tr>\n",
       "    <tr>\n",
       "      <th>7587</th>\n",
       "      <td>4</td>\n",
       "      <td>Hobbit-finding Boffins in science top 10</td>\n",
       "      <td>AP - Australian scientists who helped discover...</td>\n",
       "    </tr>\n",
       "    <tr>\n",
       "      <th>7588</th>\n",
       "      <td>4</td>\n",
       "      <td>Search providers seek video, find challenges</td>\n",
       "      <td>Internet search providers are reacting to user...</td>\n",
       "    </tr>\n",
       "    <tr>\n",
       "      <th>7589</th>\n",
       "      <td>2</td>\n",
       "      <td>The Newest Hope ; Marriage of Necessity Just M...</td>\n",
       "      <td>NEW YORK - The TV lights were on, the cameras ...</td>\n",
       "    </tr>\n",
       "    <tr>\n",
       "      <th>7590</th>\n",
       "      <td>2</td>\n",
       "      <td>Saban hiring on hold</td>\n",
       "      <td>DAVIE - The Dolphins want Nick Saban, and the ...</td>\n",
       "    </tr>\n",
       "    <tr>\n",
       "      <th>7591</th>\n",
       "      <td>1</td>\n",
       "      <td>Bosnian-Serb prime minister resigns in protest...</td>\n",
       "      <td>Canadian Press - BANJA LUKA, Bosnia-Herzegovin...</td>\n",
       "    </tr>\n",
       "    <tr>\n",
       "      <th>7592</th>\n",
       "      <td>1</td>\n",
       "      <td>Historic Turkey-EU deal welcomed</td>\n",
       "      <td>The European Union's decision to hold entry ta...</td>\n",
       "    </tr>\n",
       "    <tr>\n",
       "      <th>7593</th>\n",
       "      <td>2</td>\n",
       "      <td>Mortaza strikes to lead superb Bangladesh rally</td>\n",
       "      <td>Paceman Mashrafe Mortaza claimed two prize sca...</td>\n",
       "    </tr>\n",
       "    <tr>\n",
       "      <th>7594</th>\n",
       "      <td>1</td>\n",
       "      <td>Powell pushes diplomacy for N. Korea</td>\n",
       "      <td>WASHINGTON -- Outgoing Secretary of State Coli...</td>\n",
       "    </tr>\n",
       "    <tr>\n",
       "      <th>7595</th>\n",
       "      <td>1</td>\n",
       "      <td>Around the world</td>\n",
       "      <td>Ukrainian presidential candidate Viktor Yushch...</td>\n",
       "    </tr>\n",
       "    <tr>\n",
       "      <th>7596</th>\n",
       "      <td>2</td>\n",
       "      <td>Void is filled with Clement</td>\n",
       "      <td>With the supply of attractive pitching options...</td>\n",
       "    </tr>\n",
       "    <tr>\n",
       "      <th>7597</th>\n",
       "      <td>2</td>\n",
       "      <td>Martinez leaves bitter</td>\n",
       "      <td>Like Roger Clemens did almost exactly eight ye...</td>\n",
       "    </tr>\n",
       "    <tr>\n",
       "      <th>7598</th>\n",
       "      <td>3</td>\n",
       "      <td>5 of arthritis patients in Singapore take Bext...</td>\n",
       "      <td>SINGAPORE : Doctors in the United States have ...</td>\n",
       "    </tr>\n",
       "    <tr>\n",
       "      <th>7599</th>\n",
       "      <td>3</td>\n",
       "      <td>EBay gets into rentals</td>\n",
       "      <td>EBay plans to buy the apartment and home renta...</td>\n",
       "    </tr>\n",
       "  </tbody>\n",
       "</table>\n",
       "<p>7600 rows × 3 columns</p>\n",
       "</div>"
      ],
      "text/plain": [
       "      category                                              title  \\\n",
       "0            3                  Fears for T N pension after talks   \n",
       "1            4  The Race is On: Second Private Team Sets Launc...   \n",
       "2            4      Ky. Company Wins Grant to Study Peptides (AP)   \n",
       "3            4      Prediction Unit Helps Forecast Wildfires (AP)   \n",
       "4            4        Calif. Aims to Limit Farm-Related Smog (AP)   \n",
       "5            4  Open Letter Against British Copyright Indoctri...   \n",
       "6            4                       Loosing the War on Terrorism   \n",
       "7            4  FOAFKey: FOAF, PGP, Key Distribution, and Bloo...   \n",
       "8            4                   E-mail scam targets police chief   \n",
       "9            4                  Card fraud unit nets 36,000 cards   \n",
       "10           4    Group to Propose New High-Speed Wireless Format   \n",
       "11           4     Apple Launches Graphics Software, Video Bundle   \n",
       "12           4  Dutch Retailer Beats Apple to Local Download M...   \n",
       "13           4                    Super ant colony hits Australia   \n",
       "14           4                    Socialites unite dolphin groups   \n",
       "15           4                    Teenage T. rex's monster growth   \n",
       "16           4  Scientists Discover Ganymede has a Lumpy Interior   \n",
       "17           4      Mars Rovers Relay Images Through Mars Express   \n",
       "18           4                         Rocking the Cradle of Life   \n",
       "19           4                Storage, servers bruise HP earnings   \n",
       "20           4                  IBM to hire even more new workers   \n",
       "21           4               Sun's Looking Glass Provides 3D View   \n",
       "22           4              IBM Chips May Someday Heal Themselves   \n",
       "23           4   Some People Not Eligible to Get in on Google IPO   \n",
       "24           4        Rivals Try to Turn Tables on Charles Schwab   \n",
       "25           4  News: Sluggish movement on power grid cyber se...   \n",
       "26           2           Giddy Phelps Touches Gold for First Time   \n",
       "27           2              Tougher rules won't soften Law's game   \n",
       "28           2  Shoppach doesn't appear ready to hit the next ...   \n",
       "29           2          Mighty Ortiz makes sure Sox can rest easy   \n",
       "...        ...                                                ...   \n",
       "7570         1   AU Issues Deadline to Khartoum and Darfur Rebels   \n",
       "7571         2                               Skier Tests Positive   \n",
       "7572         2  Wenger vows no repeat of frailties against Bayern   \n",
       "7573         4          Microsoft buy comes with strings attached   \n",
       "7574         4   U.S. Army aims to halt paperwork with IBM system   \n",
       "7575         2                      Barcelona return for Mourinho   \n",
       "7576         2                 2005 American Bowl teams announced   \n",
       "7577         2              Carter could prove real plus for Nets   \n",
       "7578         1  Sudan govt unleashes offensive in South Darfur...   \n",
       "7579         3   Airbus chief wins fight to take controls at Eads   \n",
       "7580         2          England labour but find their second wind   \n",
       "7581         3  EBay #39;s Buy Of Rent.com May Lack Strategic ...   \n",
       "7582         4  Analysis: PeopleSoft users speak out about Ora...   \n",
       "7583         2                    Right-hander must pass physical   \n",
       "7584         2                              Pacers 89, Raptors 86   \n",
       "7585         1    Pricey Drug Trials Turn Up Few New Blockbusters   \n",
       "7586         2                 NBA Game Summary - Denver at Miami   \n",
       "7587         4           Hobbit-finding Boffins in science top 10   \n",
       "7588         4       Search providers seek video, find challenges   \n",
       "7589         2  The Newest Hope ; Marriage of Necessity Just M...   \n",
       "7590         2                               Saban hiring on hold   \n",
       "7591         1  Bosnian-Serb prime minister resigns in protest...   \n",
       "7592         1                   Historic Turkey-EU deal welcomed   \n",
       "7593         2    Mortaza strikes to lead superb Bangladesh rally   \n",
       "7594         1               Powell pushes diplomacy for N. Korea   \n",
       "7595         1                                   Around the world   \n",
       "7596         2                        Void is filled with Clement   \n",
       "7597         2                             Martinez leaves bitter   \n",
       "7598         3  5 of arthritis patients in Singapore take Bext...   \n",
       "7599         3                             EBay gets into rentals   \n",
       "\n",
       "                                                   text  \n",
       "0     Unions representing workers at Turner   Newall...  \n",
       "1     SPACE.com - TORONTO, Canada -- A second\\team o...  \n",
       "2     AP - A company founded by a chemistry research...  \n",
       "3     AP - It's barely dawn when Mike Fitzpatrick st...  \n",
       "4     AP - Southern California's smog-fighting agenc...  \n",
       "5     The British Department for Education and Skill...  \n",
       "6     \\\\\"Sven Jaschan, self-confessed author of the ...  \n",
       "7     \\\\FOAF/LOAF  and bloom filters have a lot of i...  \n",
       "8     Wiltshire Police warns about \"phishing\" after ...  \n",
       "9     In its first two years, the UK's dedicated car...  \n",
       "10     LOS ANGELES (Reuters) - A group of technology...  \n",
       "11     LOS ANGELES (Reuters) - Apple Computer Inc.&l...  \n",
       "12     AMSTERDAM (Reuters) - Free Record Shop, a Dut...  \n",
       "13    A giant 100km colony of ants  which has been d...  \n",
       "14    Dolphin groups, or \"pods\", rely on socialites ...  \n",
       "15    Tyrannosaurus rex achieved its massive size du...  \n",
       "16    Jet Propulsion Lab -- Scientists have discover...  \n",
       "17    European Space Agency -- ESAs Mars Express has...  \n",
       "18    When did life begin? One evidential clue stems...  \n",
       "19    update Earnings per share rise compared with a...  \n",
       "20    By the end of the year, the computing giant pl...  \n",
       "21    Developers get early code for new operating sy...  \n",
       "22    New technology applies electrical fuses to hel...  \n",
       "23    Google has billed its IPO as a way for everyda...  \n",
       "24    By MICHAEL LIEDTKE     SAN FRANCISCO (AP) -- W...  \n",
       "25    Industry cyber security standards fail to reac...  \n",
       "26    Michael Phelps won the gold medal in the 400 i...  \n",
       "27    FOXBOROUGH -- Looking at his ridiculously deve...  \n",
       "28    With the weeks dwindling until Jason Varitek e...  \n",
       "29    Just imagine what David Ortiz could do on a go...  \n",
       "...                                                 ...  \n",
       "7570   ABUJA (Reuters) - The African Union issued a ...  \n",
       "7571  Olympic silver medalist Hans Knauss tests posi...  \n",
       "7572  ARSNE WENGER was raised in Alsace, near the Ge...  \n",
       "7573  A software company that Microsoft acquired thi...  \n",
       "7574  The U.S. Army has struck a deal with IBM and o...  \n",
       "7575  Jose Mourinho, the Chelsea manager, last night...  \n",
       "7576  New York, NY (Sports Network) - Indianapolis w...  \n",
       "7577  The Nets reported deal for Vince Carter very m...  \n",
       "7578  CAIRO, Dec 17 (AFP) -- One of the two main reb...  \n",
       "7579  The head of plane maker Airbus yesterday won a...  \n",
       "7580  This was not an easy day on which to play cric...  \n",
       "7581  Standard  amp; Poor #39;s Equity Research said...  \n",
       "7582  InfoWorld - The great debate over the impact o...  \n",
       "7583  Right-hander Matt Clement and the Boston Red S...  \n",
       "7584  Jamaal Tinsley scored 17 of his 22 points in t...  \n",
       "7585  The \\$500 billion drug industry is stumbling b...  \n",
       "7586  Miami, FL (Sports Network) - Shaquille O #39;N...  \n",
       "7587  AP - Australian scientists who helped discover...  \n",
       "7588  Internet search providers are reacting to user...  \n",
       "7589  NEW YORK - The TV lights were on, the cameras ...  \n",
       "7590  DAVIE - The Dolphins want Nick Saban, and the ...  \n",
       "7591  Canadian Press - BANJA LUKA, Bosnia-Herzegovin...  \n",
       "7592  The European Union's decision to hold entry ta...  \n",
       "7593  Paceman Mashrafe Mortaza claimed two prize sca...  \n",
       "7594  WASHINGTON -- Outgoing Secretary of State Coli...  \n",
       "7595  Ukrainian presidential candidate Viktor Yushch...  \n",
       "7596  With the supply of attractive pitching options...  \n",
       "7597  Like Roger Clemens did almost exactly eight ye...  \n",
       "7598  SINGAPORE : Doctors in the United States have ...  \n",
       "7599  EBay plans to buy the apartment and home renta...  \n",
       "\n",
       "[7600 rows x 3 columns]"
      ]
     },
     "execution_count": 2,
     "metadata": {},
     "output_type": "execute_result"
    }
   ],
   "source": [
    "df_test"
   ]
  },
  {
   "cell_type": "code",
   "execution_count": 3,
   "metadata": {
    "collapsed": true
   },
   "outputs": [],
   "source": [
    "#We will remove NAN values\n",
    "df_train_=df_train.fillna('')\n",
    "df_test_=df_test.fillna('')"
   ]
  },
  {
   "cell_type": "code",
   "execution_count": 4,
   "metadata": {
    "collapsed": true
   },
   "outputs": [],
   "source": [
    "del df_test\n",
    "del df_train"
   ]
  },
  {
   "cell_type": "code",
   "execution_count": 5,
   "metadata": {
    "collapsed": true
   },
   "outputs": [],
   "source": [
    "#merge title and text\n",
    "\n",
    "#df_test_['full_text']=df_test_[\"title\"].map(str)+ \" \" +df_test_['text']\n",
    "#df_train_['full_text']=df_train_[\"title\"].map(str)+ \" \" +df_train_['text']\n",
    "\n",
    "#del df_train_[\"title\"]\n",
    "#del df_test_[\"title\"]\n",
    "#del df_train_['text']\n",
    "#del df_test_['text']"
   ]
  },
  {
   "cell_type": "code",
   "execution_count": 6,
   "metadata": {
    "collapsed": true
   },
   "outputs": [],
   "source": [
    "del df_train_[\"title\"]\n",
    "del df_test_[\"title\"]\n",
    "\n"
   ]
  },
  {
   "cell_type": "code",
   "execution_count": 8,
   "metadata": {
    "collapsed": true
   },
   "outputs": [],
   "source": [
    "class_names=['World','Sports','Business','Science and Tech']"
   ]
  },
  {
   "cell_type": "code",
   "execution_count": 9,
   "metadata": {
    "collapsed": true
   },
   "outputs": [],
   "source": [
    "df_test_.category=df_test_.category.map({1:\"World\",2:\"Sports\",3:\"Business\",4:\"Science and Tech\"})\n",
    "df_train_.category=df_train_.category.map({1:\"World\",2:\"Sports\",3:\"Business\",4:\"Science and Tech\"})"
   ]
  },
  {
   "cell_type": "code",
   "execution_count": 10,
   "metadata": {},
   "outputs": [
    {
     "data": {
      "text/html": [
       "<div>\n",
       "<style>\n",
       "    .dataframe thead tr:only-child th {\n",
       "        text-align: right;\n",
       "    }\n",
       "\n",
       "    .dataframe thead th {\n",
       "        text-align: left;\n",
       "    }\n",
       "\n",
       "    .dataframe tbody tr th {\n",
       "        vertical-align: top;\n",
       "    }\n",
       "</style>\n",
       "<table border=\"1\" class=\"dataframe\">\n",
       "  <thead>\n",
       "    <tr style=\"text-align: right;\">\n",
       "      <th></th>\n",
       "      <th>category</th>\n",
       "      <th>text</th>\n",
       "    </tr>\n",
       "  </thead>\n",
       "  <tbody>\n",
       "    <tr>\n",
       "      <th>0</th>\n",
       "      <td>Business</td>\n",
       "      <td>Unions representing workers at Turner   Newall...</td>\n",
       "    </tr>\n",
       "    <tr>\n",
       "      <th>1</th>\n",
       "      <td>Science and Tech</td>\n",
       "      <td>SPACE.com - TORONTO, Canada -- A second\\team o...</td>\n",
       "    </tr>\n",
       "    <tr>\n",
       "      <th>2</th>\n",
       "      <td>Science and Tech</td>\n",
       "      <td>AP - A company founded by a chemistry research...</td>\n",
       "    </tr>\n",
       "    <tr>\n",
       "      <th>3</th>\n",
       "      <td>Science and Tech</td>\n",
       "      <td>AP - It's barely dawn when Mike Fitzpatrick st...</td>\n",
       "    </tr>\n",
       "    <tr>\n",
       "      <th>4</th>\n",
       "      <td>Science and Tech</td>\n",
       "      <td>AP - Southern California's smog-fighting agenc...</td>\n",
       "    </tr>\n",
       "    <tr>\n",
       "      <th>5</th>\n",
       "      <td>Science and Tech</td>\n",
       "      <td>The British Department for Education and Skill...</td>\n",
       "    </tr>\n",
       "    <tr>\n",
       "      <th>6</th>\n",
       "      <td>Science and Tech</td>\n",
       "      <td>\\\\\"Sven Jaschan, self-confessed author of the ...</td>\n",
       "    </tr>\n",
       "    <tr>\n",
       "      <th>7</th>\n",
       "      <td>Science and Tech</td>\n",
       "      <td>\\\\FOAF/LOAF  and bloom filters have a lot of i...</td>\n",
       "    </tr>\n",
       "    <tr>\n",
       "      <th>8</th>\n",
       "      <td>Science and Tech</td>\n",
       "      <td>Wiltshire Police warns about \"phishing\" after ...</td>\n",
       "    </tr>\n",
       "    <tr>\n",
       "      <th>9</th>\n",
       "      <td>Science and Tech</td>\n",
       "      <td>In its first two years, the UK's dedicated car...</td>\n",
       "    </tr>\n",
       "    <tr>\n",
       "      <th>10</th>\n",
       "      <td>Science and Tech</td>\n",
       "      <td>LOS ANGELES (Reuters) - A group of technology...</td>\n",
       "    </tr>\n",
       "    <tr>\n",
       "      <th>11</th>\n",
       "      <td>Science and Tech</td>\n",
       "      <td>LOS ANGELES (Reuters) - Apple Computer Inc.&amp;l...</td>\n",
       "    </tr>\n",
       "    <tr>\n",
       "      <th>12</th>\n",
       "      <td>Science and Tech</td>\n",
       "      <td>AMSTERDAM (Reuters) - Free Record Shop, a Dut...</td>\n",
       "    </tr>\n",
       "    <tr>\n",
       "      <th>13</th>\n",
       "      <td>Science and Tech</td>\n",
       "      <td>A giant 100km colony of ants  which has been d...</td>\n",
       "    </tr>\n",
       "    <tr>\n",
       "      <th>14</th>\n",
       "      <td>Science and Tech</td>\n",
       "      <td>Dolphin groups, or \"pods\", rely on socialites ...</td>\n",
       "    </tr>\n",
       "    <tr>\n",
       "      <th>15</th>\n",
       "      <td>Science and Tech</td>\n",
       "      <td>Tyrannosaurus rex achieved its massive size du...</td>\n",
       "    </tr>\n",
       "    <tr>\n",
       "      <th>16</th>\n",
       "      <td>Science and Tech</td>\n",
       "      <td>Jet Propulsion Lab -- Scientists have discover...</td>\n",
       "    </tr>\n",
       "    <tr>\n",
       "      <th>17</th>\n",
       "      <td>Science and Tech</td>\n",
       "      <td>European Space Agency -- ESAs Mars Express has...</td>\n",
       "    </tr>\n",
       "    <tr>\n",
       "      <th>18</th>\n",
       "      <td>Science and Tech</td>\n",
       "      <td>When did life begin? One evidential clue stems...</td>\n",
       "    </tr>\n",
       "    <tr>\n",
       "      <th>19</th>\n",
       "      <td>Science and Tech</td>\n",
       "      <td>update Earnings per share rise compared with a...</td>\n",
       "    </tr>\n",
       "    <tr>\n",
       "      <th>20</th>\n",
       "      <td>Science and Tech</td>\n",
       "      <td>By the end of the year, the computing giant pl...</td>\n",
       "    </tr>\n",
       "    <tr>\n",
       "      <th>21</th>\n",
       "      <td>Science and Tech</td>\n",
       "      <td>Developers get early code for new operating sy...</td>\n",
       "    </tr>\n",
       "    <tr>\n",
       "      <th>22</th>\n",
       "      <td>Science and Tech</td>\n",
       "      <td>New technology applies electrical fuses to hel...</td>\n",
       "    </tr>\n",
       "    <tr>\n",
       "      <th>23</th>\n",
       "      <td>Science and Tech</td>\n",
       "      <td>Google has billed its IPO as a way for everyda...</td>\n",
       "    </tr>\n",
       "    <tr>\n",
       "      <th>24</th>\n",
       "      <td>Science and Tech</td>\n",
       "      <td>By MICHAEL LIEDTKE     SAN FRANCISCO (AP) -- W...</td>\n",
       "    </tr>\n",
       "    <tr>\n",
       "      <th>25</th>\n",
       "      <td>Science and Tech</td>\n",
       "      <td>Industry cyber security standards fail to reac...</td>\n",
       "    </tr>\n",
       "    <tr>\n",
       "      <th>26</th>\n",
       "      <td>Sports</td>\n",
       "      <td>Michael Phelps won the gold medal in the 400 i...</td>\n",
       "    </tr>\n",
       "    <tr>\n",
       "      <th>27</th>\n",
       "      <td>Sports</td>\n",
       "      <td>FOXBOROUGH -- Looking at his ridiculously deve...</td>\n",
       "    </tr>\n",
       "    <tr>\n",
       "      <th>28</th>\n",
       "      <td>Sports</td>\n",
       "      <td>With the weeks dwindling until Jason Varitek e...</td>\n",
       "    </tr>\n",
       "    <tr>\n",
       "      <th>29</th>\n",
       "      <td>Sports</td>\n",
       "      <td>Just imagine what David Ortiz could do on a go...</td>\n",
       "    </tr>\n",
       "    <tr>\n",
       "      <th>...</th>\n",
       "      <td>...</td>\n",
       "      <td>...</td>\n",
       "    </tr>\n",
       "    <tr>\n",
       "      <th>7570</th>\n",
       "      <td>World</td>\n",
       "      <td>ABUJA (Reuters) - The African Union issued a ...</td>\n",
       "    </tr>\n",
       "    <tr>\n",
       "      <th>7571</th>\n",
       "      <td>Sports</td>\n",
       "      <td>Olympic silver medalist Hans Knauss tests posi...</td>\n",
       "    </tr>\n",
       "    <tr>\n",
       "      <th>7572</th>\n",
       "      <td>Sports</td>\n",
       "      <td>ARSNE WENGER was raised in Alsace, near the Ge...</td>\n",
       "    </tr>\n",
       "    <tr>\n",
       "      <th>7573</th>\n",
       "      <td>Science and Tech</td>\n",
       "      <td>A software company that Microsoft acquired thi...</td>\n",
       "    </tr>\n",
       "    <tr>\n",
       "      <th>7574</th>\n",
       "      <td>Science and Tech</td>\n",
       "      <td>The U.S. Army has struck a deal with IBM and o...</td>\n",
       "    </tr>\n",
       "    <tr>\n",
       "      <th>7575</th>\n",
       "      <td>Sports</td>\n",
       "      <td>Jose Mourinho, the Chelsea manager, last night...</td>\n",
       "    </tr>\n",
       "    <tr>\n",
       "      <th>7576</th>\n",
       "      <td>Sports</td>\n",
       "      <td>New York, NY (Sports Network) - Indianapolis w...</td>\n",
       "    </tr>\n",
       "    <tr>\n",
       "      <th>7577</th>\n",
       "      <td>Sports</td>\n",
       "      <td>The Nets reported deal for Vince Carter very m...</td>\n",
       "    </tr>\n",
       "    <tr>\n",
       "      <th>7578</th>\n",
       "      <td>World</td>\n",
       "      <td>CAIRO, Dec 17 (AFP) -- One of the two main reb...</td>\n",
       "    </tr>\n",
       "    <tr>\n",
       "      <th>7579</th>\n",
       "      <td>Business</td>\n",
       "      <td>The head of plane maker Airbus yesterday won a...</td>\n",
       "    </tr>\n",
       "    <tr>\n",
       "      <th>7580</th>\n",
       "      <td>Sports</td>\n",
       "      <td>This was not an easy day on which to play cric...</td>\n",
       "    </tr>\n",
       "    <tr>\n",
       "      <th>7581</th>\n",
       "      <td>Business</td>\n",
       "      <td>Standard  amp; Poor #39;s Equity Research said...</td>\n",
       "    </tr>\n",
       "    <tr>\n",
       "      <th>7582</th>\n",
       "      <td>Science and Tech</td>\n",
       "      <td>InfoWorld - The great debate over the impact o...</td>\n",
       "    </tr>\n",
       "    <tr>\n",
       "      <th>7583</th>\n",
       "      <td>Sports</td>\n",
       "      <td>Right-hander Matt Clement and the Boston Red S...</td>\n",
       "    </tr>\n",
       "    <tr>\n",
       "      <th>7584</th>\n",
       "      <td>Sports</td>\n",
       "      <td>Jamaal Tinsley scored 17 of his 22 points in t...</td>\n",
       "    </tr>\n",
       "    <tr>\n",
       "      <th>7585</th>\n",
       "      <td>World</td>\n",
       "      <td>The \\$500 billion drug industry is stumbling b...</td>\n",
       "    </tr>\n",
       "    <tr>\n",
       "      <th>7586</th>\n",
       "      <td>Sports</td>\n",
       "      <td>Miami, FL (Sports Network) - Shaquille O #39;N...</td>\n",
       "    </tr>\n",
       "    <tr>\n",
       "      <th>7587</th>\n",
       "      <td>Science and Tech</td>\n",
       "      <td>AP - Australian scientists who helped discover...</td>\n",
       "    </tr>\n",
       "    <tr>\n",
       "      <th>7588</th>\n",
       "      <td>Science and Tech</td>\n",
       "      <td>Internet search providers are reacting to user...</td>\n",
       "    </tr>\n",
       "    <tr>\n",
       "      <th>7589</th>\n",
       "      <td>Sports</td>\n",
       "      <td>NEW YORK - The TV lights were on, the cameras ...</td>\n",
       "    </tr>\n",
       "    <tr>\n",
       "      <th>7590</th>\n",
       "      <td>Sports</td>\n",
       "      <td>DAVIE - The Dolphins want Nick Saban, and the ...</td>\n",
       "    </tr>\n",
       "    <tr>\n",
       "      <th>7591</th>\n",
       "      <td>World</td>\n",
       "      <td>Canadian Press - BANJA LUKA, Bosnia-Herzegovin...</td>\n",
       "    </tr>\n",
       "    <tr>\n",
       "      <th>7592</th>\n",
       "      <td>World</td>\n",
       "      <td>The European Union's decision to hold entry ta...</td>\n",
       "    </tr>\n",
       "    <tr>\n",
       "      <th>7593</th>\n",
       "      <td>Sports</td>\n",
       "      <td>Paceman Mashrafe Mortaza claimed two prize sca...</td>\n",
       "    </tr>\n",
       "    <tr>\n",
       "      <th>7594</th>\n",
       "      <td>World</td>\n",
       "      <td>WASHINGTON -- Outgoing Secretary of State Coli...</td>\n",
       "    </tr>\n",
       "    <tr>\n",
       "      <th>7595</th>\n",
       "      <td>World</td>\n",
       "      <td>Ukrainian presidential candidate Viktor Yushch...</td>\n",
       "    </tr>\n",
       "    <tr>\n",
       "      <th>7596</th>\n",
       "      <td>Sports</td>\n",
       "      <td>With the supply of attractive pitching options...</td>\n",
       "    </tr>\n",
       "    <tr>\n",
       "      <th>7597</th>\n",
       "      <td>Sports</td>\n",
       "      <td>Like Roger Clemens did almost exactly eight ye...</td>\n",
       "    </tr>\n",
       "    <tr>\n",
       "      <th>7598</th>\n",
       "      <td>Business</td>\n",
       "      <td>SINGAPORE : Doctors in the United States have ...</td>\n",
       "    </tr>\n",
       "    <tr>\n",
       "      <th>7599</th>\n",
       "      <td>Business</td>\n",
       "      <td>EBay plans to buy the apartment and home renta...</td>\n",
       "    </tr>\n",
       "  </tbody>\n",
       "</table>\n",
       "<p>7600 rows × 2 columns</p>\n",
       "</div>"
      ],
      "text/plain": [
       "              category                                               text\n",
       "0             Business  Unions representing workers at Turner   Newall...\n",
       "1     Science and Tech  SPACE.com - TORONTO, Canada -- A second\\team o...\n",
       "2     Science and Tech  AP - A company founded by a chemistry research...\n",
       "3     Science and Tech  AP - It's barely dawn when Mike Fitzpatrick st...\n",
       "4     Science and Tech  AP - Southern California's smog-fighting agenc...\n",
       "5     Science and Tech  The British Department for Education and Skill...\n",
       "6     Science and Tech  \\\\\"Sven Jaschan, self-confessed author of the ...\n",
       "7     Science and Tech  \\\\FOAF/LOAF  and bloom filters have a lot of i...\n",
       "8     Science and Tech  Wiltshire Police warns about \"phishing\" after ...\n",
       "9     Science and Tech  In its first two years, the UK's dedicated car...\n",
       "10    Science and Tech   LOS ANGELES (Reuters) - A group of technology...\n",
       "11    Science and Tech   LOS ANGELES (Reuters) - Apple Computer Inc.&l...\n",
       "12    Science and Tech   AMSTERDAM (Reuters) - Free Record Shop, a Dut...\n",
       "13    Science and Tech  A giant 100km colony of ants  which has been d...\n",
       "14    Science and Tech  Dolphin groups, or \"pods\", rely on socialites ...\n",
       "15    Science and Tech  Tyrannosaurus rex achieved its massive size du...\n",
       "16    Science and Tech  Jet Propulsion Lab -- Scientists have discover...\n",
       "17    Science and Tech  European Space Agency -- ESAs Mars Express has...\n",
       "18    Science and Tech  When did life begin? One evidential clue stems...\n",
       "19    Science and Tech  update Earnings per share rise compared with a...\n",
       "20    Science and Tech  By the end of the year, the computing giant pl...\n",
       "21    Science and Tech  Developers get early code for new operating sy...\n",
       "22    Science and Tech  New technology applies electrical fuses to hel...\n",
       "23    Science and Tech  Google has billed its IPO as a way for everyda...\n",
       "24    Science and Tech  By MICHAEL LIEDTKE     SAN FRANCISCO (AP) -- W...\n",
       "25    Science and Tech  Industry cyber security standards fail to reac...\n",
       "26              Sports  Michael Phelps won the gold medal in the 400 i...\n",
       "27              Sports  FOXBOROUGH -- Looking at his ridiculously deve...\n",
       "28              Sports  With the weeks dwindling until Jason Varitek e...\n",
       "29              Sports  Just imagine what David Ortiz could do on a go...\n",
       "...                ...                                                ...\n",
       "7570             World   ABUJA (Reuters) - The African Union issued a ...\n",
       "7571            Sports  Olympic silver medalist Hans Knauss tests posi...\n",
       "7572            Sports  ARSNE WENGER was raised in Alsace, near the Ge...\n",
       "7573  Science and Tech  A software company that Microsoft acquired thi...\n",
       "7574  Science and Tech  The U.S. Army has struck a deal with IBM and o...\n",
       "7575            Sports  Jose Mourinho, the Chelsea manager, last night...\n",
       "7576            Sports  New York, NY (Sports Network) - Indianapolis w...\n",
       "7577            Sports  The Nets reported deal for Vince Carter very m...\n",
       "7578             World  CAIRO, Dec 17 (AFP) -- One of the two main reb...\n",
       "7579          Business  The head of plane maker Airbus yesterday won a...\n",
       "7580            Sports  This was not an easy day on which to play cric...\n",
       "7581          Business  Standard  amp; Poor #39;s Equity Research said...\n",
       "7582  Science and Tech  InfoWorld - The great debate over the impact o...\n",
       "7583            Sports  Right-hander Matt Clement and the Boston Red S...\n",
       "7584            Sports  Jamaal Tinsley scored 17 of his 22 points in t...\n",
       "7585             World  The \\$500 billion drug industry is stumbling b...\n",
       "7586            Sports  Miami, FL (Sports Network) - Shaquille O #39;N...\n",
       "7587  Science and Tech  AP - Australian scientists who helped discover...\n",
       "7588  Science and Tech  Internet search providers are reacting to user...\n",
       "7589            Sports  NEW YORK - The TV lights were on, the cameras ...\n",
       "7590            Sports  DAVIE - The Dolphins want Nick Saban, and the ...\n",
       "7591             World  Canadian Press - BANJA LUKA, Bosnia-Herzegovin...\n",
       "7592             World  The European Union's decision to hold entry ta...\n",
       "7593            Sports  Paceman Mashrafe Mortaza claimed two prize sca...\n",
       "7594             World  WASHINGTON -- Outgoing Secretary of State Coli...\n",
       "7595             World  Ukrainian presidential candidate Viktor Yushch...\n",
       "7596            Sports  With the supply of attractive pitching options...\n",
       "7597            Sports  Like Roger Clemens did almost exactly eight ye...\n",
       "7598          Business  SINGAPORE : Doctors in the United States have ...\n",
       "7599          Business  EBay plans to buy the apartment and home renta...\n",
       "\n",
       "[7600 rows x 2 columns]"
      ]
     },
     "execution_count": 10,
     "metadata": {},
     "output_type": "execute_result"
    }
   ],
   "source": [
    "df_test_"
   ]
  },
  {
   "cell_type": "code",
   "execution_count": 11,
   "metadata": {
    "collapsed": true
   },
   "outputs": [],
   "source": [
    "def clean_text(df, col):\n",
    "    from string import punctuation\n",
    "    df = df.copy()\n",
    "    porter_stemmer = PorterStemmer()\n",
    "    return df[col].apply(lambda x: re.sub('[^A-Za-z0-9]+', ' ', x.lower()))\\\n",
    "                  .apply(lambda x: re.sub('\\s+', ' ', x).strip())"
   ]
  },
  {
   "cell_type": "code",
   "execution_count": 13,
   "metadata": {
    "collapsed": true
   },
   "outputs": [],
   "source": [
    "from nltk.stem.porter import PorterStemmer\n",
    "import re"
   ]
  },
  {
   "cell_type": "code",
   "execution_count": 14,
   "metadata": {
    "collapsed": true
   },
   "outputs": [],
   "source": [
    "df_train_['text_clean'] = clean_text(df_train_, 'text')\n",
    "df_test_['text_clean'] = clean_text(df_test_, 'text')\n",
    "del df_train_['text']\n",
    "del df_test_['text']"
   ]
  },
  {
   "cell_type": "code",
   "execution_count": 15,
   "metadata": {
    "collapsed": true
   },
   "outputs": [],
   "source": [
    "train_arr=df_train_['text_clean'].tolist()\n",
    "test_arr=df_test_['text_clean'].tolist()\n",
    "train_lbl = df_train_['category'].tolist()\n",
    "test_lbl = df_test_['category'].tolist()"
   ]
  },
  {
   "cell_type": "code",
   "execution_count": 16,
   "metadata": {
    "collapsed": true
   },
   "outputs": [],
   "source": [
    "del df_train_\n",
    "del df_test_"
   ]
  },
  {
   "cell_type": "code",
   "execution_count": 17,
   "metadata": {
    "collapsed": true
   },
   "outputs": [],
   "source": [
    "from sklearn.feature_extraction.text import CountVectorizer, TfidfTransformer"
   ]
  },
  {
   "cell_type": "code",
   "execution_count": 18,
   "metadata": {},
   "outputs": [
    {
     "name": "stdout",
     "output_type": "stream",
     "text": [
      "(120000, 60715)\n",
      "(7600, 60715)\n"
     ]
    }
   ],
   "source": [
    "vectorizer = CountVectorizer()\n",
    "vectorizer.fit(train_arr)\n",
    "train_mat = vectorizer.transform(train_arr)\n",
    "print (train_mat.shape)\n",
    "test_mat = vectorizer.transform(test_arr)\n",
    "print (test_mat.shape)"
   ]
  },
  {
   "cell_type": "code",
   "execution_count": 19,
   "metadata": {},
   "outputs": [
    {
     "name": "stdout",
     "output_type": "stream",
     "text": [
      "(120000, 60715)\n",
      "(7600, 60715)\n"
     ]
    }
   ],
   "source": [
    "tfidf = TfidfTransformer()\n",
    "tfidf.fit(train_mat)\n",
    "train_tfmat = tfidf.transform(train_mat)\n",
    "print (train_tfmat.shape)\n",
    "test_tfmat = tfidf.transform(test_mat)\n",
    "print (test_tfmat.shape)"
   ]
  },
  {
   "cell_type": "code",
   "execution_count": 20,
   "metadata": {
    "collapsed": true
   },
   "outputs": [],
   "source": [
    "del train_arr\n",
    "del test_arr"
   ]
  },
  {
   "cell_type": "code",
   "execution_count": 21,
   "metadata": {
    "collapsed": true
   },
   "outputs": [],
   "source": [
    "from sklearn.naive_bayes import BernoulliNB, GaussianNB, MultinomialNB\n",
    "from pprint import pprint\n",
    "import matplotlib.pyplot as plt\n",
    "import itertools\n",
    "from sklearn.metrics import confusion_matrix,accuracy_score"
   ]
  },
  {
   "cell_type": "code",
   "execution_count": 25,
   "metadata": {
    "collapsed": true
   },
   "outputs": [],
   "source": [
    "import numpy as np"
   ]
  },
  {
   "cell_type": "code",
   "execution_count": 22,
   "metadata": {
    "collapsed": true
   },
   "outputs": [],
   "source": [
    "def plot_confusion_matrix(cm, classes,\n",
    "                          normalize=False,\n",
    "                          title='Confusion matrix',\n",
    "                          cmap=plt.cm.Reds):\n",
    "\n",
    "    plt.imshow(cm, interpolation='nearest', cmap=cmap)\n",
    "    plt.title(title)\n",
    "    plt.colorbar()\n",
    "    tick_marks = np.arange(len(classes))\n",
    "    plt.xticks(tick_marks, classes, rotation=90)\n",
    "    plt.yticks(tick_marks, classes)\n",
    "\n",
    "    print(cm)\n",
    "\n",
    "    thresh = cm.max() / 2.\n",
    "    for i, j in itertools.product(range(cm.shape[0]), range(cm.shape[1])):\n",
    "        plt.text(j, i, cm[i, j],\n",
    "                 horizontalalignment=\"center\",\n",
    "                 color=\"white\" if cm[i, j] > thresh else \"black\")\n",
    "\n",
    "    plt.tight_layout()\n",
    "    plt.ylabel('True label')\n",
    "    plt.xlabel('Predicted label')"
   ]
  },
  {
   "cell_type": "markdown",
   "metadata": {},
   "source": [
    "## Bernoulli Nave Bayes"
   ]
  },
  {
   "cell_type": "code",
   "execution_count": 23,
   "metadata": {},
   "outputs": [
    {
     "name": "stdout",
     "output_type": "stream",
     "text": [
      "Bernoulli accuracy score\n",
      "0.890263157895\n"
     ]
    }
   ],
   "source": [
    "bnb= BernoulliNB()\n",
    "#fitting\n",
    "bnb.fit(train_tfmat, train_lbl)\n",
    "#ypred\n",
    "ypredBnb = bnb.predict(test_tfmat)\n",
    "print ('Bernoulli accuracy score')\n",
    "print (accuracy_score(test_lbl, ypredBnb))"
   ]
  },
  {
   "cell_type": "code",
   "execution_count": 27,
   "metadata": {},
   "outputs": [
    {
     "name": "stdout",
     "output_type": "stream",
     "text": [
      "[[1568  234   20   78]\n",
      " [ 140 1670   20   70]\n",
      " [   9   17 1836   38]\n",
      " [  90   55   63 1692]]\n"
     ]
    },
    {
     "data": {
      "image/png": "[encoded data removed]",
      "text/plain": [
       "<matplotlib.figure.Figure at 0x1b2007f37f0>"
      ]
     },
     "metadata": {},
     "output_type": "display_data"
    }
   ],
   "source": [
    "plt.figure(figsize=(8,8))\n",
    "plot_confusion_matrix(confusion_matrix(test_lbl, ypredBnb), classes=class_names,\n",
    "                      title='Bernoulli Confusion matrix')\n",
    "\n",
    "plt.show()"
   ]
  },
  {
   "cell_type": "markdown",
   "metadata": {},
   "source": [
    "## Multinomial Naive Bayes"
   ]
  },
  {
   "cell_type": "code",
   "execution_count": 28,
   "metadata": {},
   "outputs": [
    {
     "name": "stdout",
     "output_type": "stream",
     "text": [
      "Multinomial accuracy score\n",
      "0.893552631579\n"
     ]
    }
   ],
   "source": [
    "mnb=MultinomialNB()\n",
    "#fitting\n",
    "mnb.fit(train_tfmat, train_lbl)\n",
    "ypredMnb = mnb.predict(test_tfmat)\n",
    "print ('Multinomial accuracy score')\n",
    "print (accuracy_score(test_lbl, ypredMnb))"
   ]
  },
  {
   "cell_type": "code",
   "execution_count": 29,
   "metadata": {},
   "outputs": [
    {
     "name": "stdout",
     "output_type": "stream",
     "text": [
      "[[1605  203   21   71]\n",
      " [ 152 1654   23   71]\n",
      " [  11   15 1845   29]\n",
      " [ 101   50   62 1687]]\n"
     ]
    },
    {
     "data": {
      "image/png": "[encoded data removed]",
      "text/plain": [
       "<matplotlib.figure.Figure at 0x1b2007c5c50>"
      ]
     },
     "metadata": {},
     "output_type": "display_data"
    }
   ],
   "source": [
    "plt.figure(figsize=(8,8))\n",
    "plot_confusion_matrix(confusion_matrix(test_lbl, ypredMnb), classes=class_names,\n",
    "                      title='Multinomial Confusion matrix')\n",
    "\n",
    "plt.show()"
   ]
  },
  {
   "cell_type": "markdown",
   "metadata": {},
   "source": [
    "# SVM"
   ]
  },
  {
   "cell_type": "code",
   "execution_count": 31,
   "metadata": {
    "collapsed": true
   },
   "outputs": [],
   "source": [
    "from sklearn.svm import LinearSVC, NuSVC, SVC"
   ]
  },
  {
   "cell_type": "markdown",
   "metadata": {},
   "source": [
    "## Linear SVM"
   ]
  },
  {
   "cell_type": "code",
   "execution_count": 32,
   "metadata": {
    "collapsed": true
   },
   "outputs": [],
   "source": [
    "lsvm= LinearSVC()\n",
    "\n",
    "#fitting\n",
    "lsvm.fit(train_tfmat, train_lbl)\n",
    "\n",
    "#ypred\n",
    "ypredLsvm = lsvm.predict(test_tfmat)"
   ]
  },
  {
   "cell_type": "code",
   "execution_count": 33,
   "metadata": {},
   "outputs": [
    {
     "name": "stdout",
     "output_type": "stream",
     "text": [
      "Linear Svm accuracy score\n",
      "0.91\n"
     ]
    }
   ],
   "source": [
    "print ('Linear Svm accuracy score')\n",
    "print (accuracy_score(test_lbl, ypredLsvm))"
   ]
  },
  {
   "cell_type": "code",
   "execution_count": 34,
   "metadata": {},
   "outputs": [
    {
     "name": "stdout",
     "output_type": "stream",
     "text": [
      "[[1654  166   18   62]\n",
      " [ 125 1709   19   47]\n",
      " [  15    9 1853   23]\n",
      " [  88   55   57 1700]]\n"
     ]
    },
    {
     "data": {
      "image/png": "[encoded data removed]",
      "text/plain": [
       "<matplotlib.figure.Figure at 0x1b279008f28>"
      ]
     },
     "metadata": {},
     "output_type": "display_data"
    }
   ],
   "source": [
    "plt.figure(figsize=(8,8))\n",
    "plot_confusion_matrix(confusion_matrix(test_lbl, ypredLsvm), classes=class_names,\n",
    "                      title='linear svm Confusion matrix')\n",
    "\n",
    "plt.show()"
   ]
  },
  {
   "cell_type": "markdown",
   "metadata": {},
   "source": [
    "## non linear svm"
   ]
  },
  {
   "cell_type": "code",
   "execution_count": 35,
   "metadata": {},
   "outputs": [
    {
     "name": "stdout",
     "output_type": "stream",
     "text": [
      "Non Linear svm accuracy score\n",
      "0.871973684211\n"
     ]
    }
   ],
   "source": [
    "nusvm=NuSVC()\n",
    "#fitting\n",
    "nusvm.fit(train_tfmat, train_lbl)\n",
    "#ypred\n",
    "ypredNusvm = nusvm.predict(test_tfmat)\n",
    "print ('Non Linear svm accuracy score')\n",
    "print (accuracy_score(test_lbl, ypredNusvm))"
   ]
  },
  {
   "cell_type": "code",
   "execution_count": 36,
   "metadata": {},
   "outputs": [
    {
     "name": "stdout",
     "output_type": "stream",
     "text": [
      "[[1516  261   43   80]\n",
      " [ 131 1647   41   81]\n",
      " [  14   36 1820   30]\n",
      " [  84   93   79 1644]]\n"
     ]
    },
    {
     "data": {
      "image/png": "[encoded data removed]",
      "text/plain": [
       "<matplotlib.figure.Figure at 0x1b27bce34a8>"
      ]
     },
     "metadata": {},
     "output_type": "display_data"
    }
   ],
   "source": [
    "plt.figure(figsize=(8,8))\n",
    "plot_confusion_matrix(confusion_matrix(test_lbl, ypredNusvm), classes=class_names,\n",
    "                      title=' Nusvm Confusion matrix')\n",
    "\n",
    "plt.show()"
   ]
  },
  {
   "cell_type": "markdown",
   "metadata": {},
   "source": [
    "# KNN"
   ]
  },
  {
   "cell_type": "code",
   "execution_count": 38,
   "metadata": {
    "collapsed": true
   },
   "outputs": [],
   "source": [
    "from sklearn.neighbors import KNeighborsClassifier"
   ]
  },
  {
   "cell_type": "markdown",
   "metadata": {},
   "source": [
    "## Uniform KNN"
   ]
  },
  {
   "cell_type": "code",
   "execution_count": null,
   "metadata": {
    "collapsed": true
   },
   "outputs": [],
   "source": [
    "knn_uni = KNeighborsClassifier(n_neighbors=5, weights = 'uniform')\n",
    "#fitting\n",
    "knn_uni.fit(train_tfmat, train_lbl)\n",
    "#ypred\n",
    "ypred_knn_uni = knn_uni.predict(test_tfmat)\n",
    "print ('Distant accuracy score')\n",
    "print (accuracy_score(test_lbl, ypred_knn_uni))"
   ]
  },
  {
   "cell_type": "code",
   "execution_count": null,
   "metadata": {
    "collapsed": true
   },
   "outputs": [],
   "source": [
    "plt.figure(figsize=(8,8))\n",
    "plot_confusion_matrix(confusion_matrix(test_lbl, ypred_knn_uni), classes=class_names,\n",
    "                      title=' uniform KNN Confusion matrix')\n",
    "\n",
    "plt.show()"
   ]
  },
  {
   "cell_type": "markdown",
   "metadata": {},
   "source": [
    "## Distant KNN"
   ]
  },
  {
   "cell_type": "code",
   "execution_count": null,
   "metadata": {
    "collapsed": true
   },
   "outputs": [],
   "source": [
    "knn_dist = KNeighborsClassifier(n_neighbors=5, weights = 'distance')\n",
    "#fitting\n",
    "knn_dist.fit(train_tfmat, train_lbl)\n",
    "#ypred\n",
    "ypred_knn_dist = knn_dist.predict(test_tfmat)\n",
    "print ('Distant accuracy score')\n",
    "print (accuracy_score(test_lbl, ypred_knn_dist))"
   ]
  },
  {
   "cell_type": "code",
   "execution_count": null,
   "metadata": {
    "collapsed": true
   },
   "outputs": [],
   "source": [
    "plt.figure(figsize=(8,8))\n",
    "plot_confusion_matrix(confusion_matrix(test_lbl, ypred_knn_dist), classes=class_names,\n",
    "                      title=' distant KNN Confusion matrix')\n",
    "\n",
    "plt.show()"
   ]
  }
 ],
 "metadata": {
  "kernelspec": {
   "display_name": "Python 3",
   "language": "python",
   "name": "python3"
  },
  "language_info": {
   "codemirror_mode": {
    "name": "ipython",
    "version": 3
   },
   "file_extension": ".py",
   "mimetype": "text/x-python",
   "name": "python",
   "nbconvert_exporter": "python",
   "pygments_lexer": "ipython3",
   "version": "3.6.1"
  }
 },
 "nbformat": 4,
 "nbformat_minor": 2
}
